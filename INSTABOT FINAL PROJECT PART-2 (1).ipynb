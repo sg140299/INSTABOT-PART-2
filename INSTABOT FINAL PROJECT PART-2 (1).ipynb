{
 "cells": [
  {
   "cell_type": "markdown",
   "metadata": {},
   "source": [
    "# InstaBot  2"
   ]
  },
  {
   "cell_type": "markdown",
   "metadata": {},
   "source": [
    "## 1. Now your friend has followed a lot of different food bloggers, he needs to analyse the habits of these bloggers."
   ]
  },
  {
   "cell_type": "markdown",
   "metadata": {},
   "source": [
    "### (1.1) From the list of instagram handles you obtained when you searched ‘food’ in previous project. Open the first 10 handles and find the top 5 which have the highest number of followers"
   ]
  },
  {
   "cell_type": "code",
   "execution_count": 12,
   "metadata": {},
   "outputs": [
    {
     "name": "stdout",
     "output_type": "stream",
     "text": [
      "Top 5 followers\n",
      "foodnetwork\n",
      "foodgod\n",
      "foodtalkindia\n",
      "foodmaniacindia\n",
      "foodiesince96\n"
     ]
    }
   ],
   "source": [
    "import time\n",
    "from bs4 import BeautifulSoup\n",
    "from selenium import webdriver\n",
    "driver=webdriver.Chrome(executable_path='C:/Users/Ayanava/Desktop/chromedriver')\n",
    "driver.get('https://www.google.com')\n",
    "data=driver.find_element_by_name('q')\n",
    "data.send_keys('instagram')\n",
    "data.submit()\n",
    "data=driver.find_element_by_class_name('ellip')\n",
    "data.click()\n",
    "driver.implicitly_wait(10)\n",
    "data=driver.find_element_by_xpath('//button[contains(@class,\" L3NKy\")]')\n",
    "data.click()\n",
    "driver.implicitly_wait(10)\n",
    "data=driver.find_element_by_id('m_login_email')\n",
    "data.send_keys('SAMPLE USERNAME')\n",
    "data=driver.find_element_by_id('m_login_password')\n",
    "data.send_keys('SAMPLE PASSWORD')\n",
    "data=driver.find_element_by_name('login')\n",
    "data.click()\n",
    "driver.implicitly_wait(10)\n",
    "data=driver.find_element_by_xpath('//button[contains(@class,\"aOOlW\")]')\n",
    "data.click()\n",
    "dic={}\n",
    "c=0\n",
    "for i in range(20):\n",
    "    if c>10:\n",
    "        break\n",
    "    data=driver.find_element_by_xpath('//input[contains(@class,\"XTCLo\")]')\n",
    "    data.clear()\n",
    "    data.send_keys('food')\n",
    "    driver.implicitly_wait(10)\n",
    "    data=driver.find_elements_by_xpath('//span[contains(@class,\"Ap253\")]')\n",
    "    handle=data[i].text\n",
    "    if handle[0]!='#':\n",
    "        data[i].click()\n",
    "        c=c+1\n",
    "        data=driver.find_element_by_xpath('//h1[contains(@class,\"_7UhW9\")]')\n",
    "        val=data.text\n",
    "        data=BeautifulSoup(driver.page_source,'html.parser')\n",
    "        new_data=data.a.span\n",
    "        final_data=new_data['title']\n",
    "        final_data=int(final_data.replace(',',''))\n",
    "        final_data\n",
    "        dic[val]=final_data\n",
    "        driver.back()\n",
    "        driver.implicitly_wait(10)\n",
    "        data=driver.find_element_by_xpath('//button[contains(@class,\"aOOlW\")]')\n",
    "        data.click()\n",
    "    else:\n",
    "        data[i].click()\n",
    "        driver.back()\n",
    "        driver.implicitly_wait(10)\n",
    "        data=driver.find_element_by_xpath('//button[contains(@class,\"aOOlW\")]')\n",
    "        data.click()\n",
    "top_5={}\n",
    "for i in range(5):\n",
    "    maxy=-999999\n",
    "    for j in dic:\n",
    "        if dic[j]>maxy:\n",
    "            max_name=j\n",
    "            maxy=dic[j]\n",
    "    top_5[max_name]=maxy\n",
    "    dic[max_name]=-99999999999\n",
    "print('Top 5 followers')\n",
    "top_5_blog=[]\n",
    "for i in top_5:\n",
    "    top_5_blog.append(i)\n",
    "for i in top_5_blog:\n",
    "    print(i)"
   ]
  },
  {
   "cell_type": "markdown",
   "metadata": {},
   "source": [
    "### (1.2) Now Find the number of posts these handles have done in the previous 3 days."
   ]
  },
  {
   "cell_type": "code",
   "execution_count": 13,
   "metadata": {},
   "outputs": [
    {
     "name": "stdout",
     "output_type": "stream",
     "text": [
      "foodnetwork  33\n",
      "foodgod  2\n",
      "foodtalkindia  8\n",
      "foodmaniacindia  7\n",
      "foodiesince96  12\n"
     ]
    }
   ],
   "source": [
    "no_of_posts={}\n",
    "for t in top_5_blog:\n",
    "    count=0\n",
    "    data=driver.find_element_by_xpath('//input[contains(@class,\"XTCLo\")]')\n",
    "    data.send_keys(t)\n",
    "    driver.implicitly_wait(10)\n",
    "    data=driver.find_element_by_xpath('//span[contains(@class,\"Ap253\")]')\n",
    "    data.click()\n",
    "    driver.implicitly_wait(10)\n",
    "    for i in range(12):\n",
    "        driver.execute_script('window.scrollBy(0,2000);')\n",
    "        time.sleep(1)\n",
    "    data=driver.find_elements_by_xpath('//div[contains(@class,\"_9AhH0\")]')\n",
    "    for j in range(12):\n",
    "        driver.execute_script('window.scrollBy(0,-2000);')\n",
    "        time.sleep(1)\n",
    "    driver.execute_script('window.scrollBy(0,500);')\n",
    "    final=data\n",
    "    driver.implicitly_wait(10)\n",
    "    for k in range(len(final)):\n",
    "        data=driver.find_elements_by_xpath('//div[contains(@class,\"_9AhH0\")]')\n",
    "        driver.execute_script('window.scrollBy(0,80);')\n",
    "        driver.implicitly_wait(10) \n",
    "        data[k].click()\n",
    "        driver.implicitly_wait(10)\n",
    "        dta=driver.find_element_by_xpath('//time[contains(@class,\"FH9sR\")]')\n",
    "        val=dta.text\n",
    "        if val[-1]=='d':\n",
    "            new_val=int(val[0:-1])\n",
    "            if new_val<4:\n",
    "                count=count+1\n",
    "            else:\n",
    "                new=driver.find_element_by_xpath('//button[contains(@class,\"ckWGn\")]')\n",
    "                new.click()\n",
    "                break\n",
    "        else:\n",
    "            if val[-1]=='h':\n",
    "                count=count+1\n",
    "            elif val[-1]=='m':\n",
    "                count=count+1\n",
    "            else:\n",
    "                new=driver.find_element_by_xpath('//button[contains(@class,\"ckWGn\")]')\n",
    "                new.click()\n",
    "                break\n",
    "        new=driver.find_element_by_xpath('//button[contains(@class,\"ckWGn\")]')\n",
    "        new.click()\n",
    "    no_of_posts[t]=count\n",
    "handles=[]\n",
    "number_posts=[]\n",
    "for i in no_of_posts:\n",
    "    handles.append(i)\n",
    "    number_posts.append(no_of_posts[i])\n",
    "for i in range(len(handles)):\n",
    "    print(handles[i],'',number_posts[i])"
   ]
  },
  {
   "cell_type": "code",
   "execution_count": null,
   "metadata": {},
   "outputs": [],
   "source": []
  },
  {
   "cell_type": "markdown",
   "metadata": {},
   "source": [
    "### (1.3) Depict this information using a suitable graph."
   ]
  },
  {
   "cell_type": "code",
   "execution_count": 16,
   "metadata": {},
   "outputs": [
    {
     "data": {
      "image/png": "[encoded data removed]",
      "text/plain": [
       "<Figure size 432x288 with 1 Axes>"
      ]
     },
     "metadata": {
      "needs_background": "light"
     },
     "output_type": "display_data"
    }
   ],
   "source": [
    "import matplotlib.pyplot as plt\n",
    "plt.bar(handles,number_posts,color='red')\n",
    "plt.xticks(rotation=90)\n",
    "plt.xlabel('Handles')\n",
    "plt.ylabel('No_of_posts')\n",
    "plt.title('Handles vs No. of Posts')\n",
    "plt.show()"
   ]
  },
  {
   "cell_type": "markdown",
   "metadata": {},
   "source": [
    "## 2.Your friend also needs a list of hashtags that he should use in his posts."
   ]
  },
  {
   "cell_type": "markdown",
   "metadata": {},
   "source": [
    "### (2.1) Open the 5 handles you obtained in the last question, and scrape the content of the first 10 posts of each handle."
   ]
  },
  {
   "cell_type": "code",
   "execution_count": 17,
   "metadata": {},
   "outputs": [
    {
     "name": "stdout",
     "output_type": "stream",
     "text": [
      "{'foodnetwork': {'post1': 'French toast just got bruleed (and it will never be the same!) 🔥\\n. . .\\nWatch @bobbyflay on all-new episodes of #WorstCooks > Sundays at 9|8c\\n. . .\\nFind the recipe for Creme Brulee French Toast at FoodNetwork.com!', 'post2': 'Reasons why we don’t want summer (aka grilling season) to end: these tender, smoky RIBS! Wow, wow, wow, Sasquatch BBQ ❗❗', 'post3': 'We have DREAMS about this ooey, gooey cookie dough cup 😍 This is on another level, @madebyablonde!', 'post4': 'This chocolate-covered gelato dome is inspired by the Baci truffle 💕 We could watch the moment at :45 on REPEAT... 👏, @qualityitalian! #FoodNetworkFinds', 'post5': \"Chicken Pot Pie... in a MUG?! Don't knock it 'til you try it!\\n. . .\\nWatch @jeffmauro on #TheKitchen, tomorrow at 11a|10c!\\n. . .\\nFind the recipe at FoodNetwork.com!\", 'post6': 'We Tried Foods from New England 🦀\\n\\nNew 👏 England 👏 Clam 👏 Chowder 👏 Need we say more?! On this week’s #TasteTest, we’re trying regional foods from New England!', 'post7': \"Bacon-Wrapped Meatloaf from #DDD 🥓\\n\\nAnything is better wrapped in bacon, especially meatloaf from @josdinermissionhills!\\n\\nWatch #DDD with @Guyfieri > Tonight at 9|8c\\n\\nGet the recipe for Jo's Bacon-Wrapped Meatloaf at FoodNetwork.com!\", 'post8': 'Recipe of the Day: Spicy Lemon Shrimp Skewers 🍋🍤\\n. . .\\nFind the recipe at FoodNetwork.com!', 'post9': 'Because Brownie Pops >>> Cake Pops 🍭🍭\\n. . .\\nWatch new episodes of @ThePioneerWoman, every Saturday @ 10a|9c!\\n. . .\\nFind the recipe at FoodNetwork.com!', 'post10': 'This Campfire Skillet Cookie is on fire 🔥🔥🔥\\n. . .\\nGet the recipe at FoodNetwork.com!'}, 'foodgod': {'post1': 'Too sweet or just right? Two of my favorite things..funnel cake and churros!!! \\u2063\\u2063\\n👇TAG A DESSERT LOVER👇\\u2063\\u2063\\n📹: @grubspot', 'post2': 'Hollywood ain’t easy, not even for my favorite UK star @gemmacollins1', 'post3': 'I found the NEXT MOST instagramable Cafe and it’s hidden inside of Harrods!', 'post4': 'Would you eat the TOP, the BOTTOM or BOTH!!\\u2063\\n\\u2063\\n📹@eastvillagepizza', 'post5': 'I was in Foodgod heaven... till she ruined it 😤 @diora_u', 'post6': 'Are you ok @HamletCouture ??? He almost died squeezing my juice\\n\\nEnjoying the paradise that is @paramount_bodrum', 'post7': 'Wait for the Waterfall.. \\u2063\\u2063\\u2063\\u2063\\nWould you share this or eat it alone??\\u2063\\u2063\\u2063\\u2063\\n\\u2063\\u2063\\u2063\\u2063\\n📹@_sophieskitchen', 'post8': 'Is anyone else obsessed with cotton candy as I am??? @mezemisolondon', 'post9': 'Tag a friend who also eats their feelings!! \\u2063\\u2063\\u2063\\u2063\\n\\u2063\\u2063\\u2063\\u2063\\n@sereasandiego', 'post10': 'Wow it’s real...literally endless apps @tgifridays and I took full advantage of it!! \\u2063\\nWho can relate?? #a d'}, 'foodtalkindia': {'post1': '#DiscoverDelhi\\nThe Big Chill Cafe always a good idea, never disappoints😍 .\\nWhere: The Big Chill Cafe\\nBy: @munchingmurmurs', 'post2': '#OfferAlert #FarziCafe\\n\\n@farzicafe Snazzy decor, young vibes and artful fusion cuisine, no wonder we keep going back for more 🧡\\n\\nThe trendy cafe is celebrating it’s 5th birthday and has a special treat for all you foodies. Enjoy a complimentary meal for every 5th person dining on the table.\\n\\nBook now as we are told they are running out of tables!\\n\\nTerms & conditions: Offer till limited time period only', 'post3': \"The culinary world has been hit by a storm, Bangkok's often synonymous with chef @gaggan_anand ’s two time Michelin star restaurant, Gaggan has closed its door. The restaurant had an extravagant 25-course emoji menu with exquisite wines and the opportunity to be hosted by the chef himself, what could be better? The restaurant that held a record of four consecutive years voted Asia’s Best Restaurant in 2015, served the last meal, with a special invite-only section.\\n\\nIt’s definitely the end of a culinary era, but as Gaggan Anand bid adieu to the restaurant he gave a decade of his life to, he is already writing the next chapter of his remarkable food story. While this period has been emotional for Anand and his loyal customer base, this October, a new restaurant called ‘Gaggan Anand’ will open at an undisclosed location in Bangkok, led by the passionate chef and with the same team of assistants. .\\n.\\n📸: www.danielagamboa.com\", 'post4': \"If your birthday falls on the 6th/16th/26th of any month, you're in luck- come enjoy a special 25% DISCOUNT and a BOTTLE OF WINE at @guppydelhi !* They're also treating you with a 6 course 'SUPERSTARS MENU' featuring some of Guppy's best loved dishes, at a special price of Rs. 1666!\\n#ManyGuppyReturns with the #GuppyGang\\nfrom 18th Aug-19th Sep. .\\n.\\nTag someone lucky with a 6 in their birth date who's taking you to join in the festivities! 🍣🥢🥟🍲 .\\n.\\n*Terms and conditions apply.\", 'post5': \"#NewInTown\\nElevated Spanish tapas is what the newest Spanish restaurant and bar, @lalatinatapasbar is all about. This newly opened restaurant has brought the Spanish culture of enjoying tapas right to the heart of our city. The space aims to highlight the generosity, authenticity, and vibrancy of the Spanish culture, showcasing Spain’s most iconic tapas. With playful decor and an open format kitchen, the place gives the guests a chance to interact with the chefs, communal style seating with few tables around the window and a small balcony overlooking the market garden, giving you feels straight out of one of Barcelona’s many chic cafes!\\n\\nComing to the food, the menu is very progressive with a modern European twist and some iconic dishes like the smoked lamb cigar served with truffle cauliflower puree and leek ash, and a savory creme brûlée with onion caramel and a classic Peruvian ceviche. We tried the charcuterie platter with the smoked duck breast which was lovely and something you usually don't find on a charcuterie platter. The pork belly anticucho, king prawns in olive oil and black-garlic miso and the pork rillettes were truly heavenly and cannot be missed.\\n\\nThe sweet miso tart, which was divine with a delicate melange of flavours and textures and the chocolate soufflé with olive oil ice cream is surely a crowd-pleaser.\\n\\nWith great food, a vibrant space and playful vibes, La Latina is sure to give you an experience like no other!\", 'post6': 'Thank you Farzi for the innovative and dramatic culinary experience! @farzicafe\\n\\nFeeding our Insta obsession with kitsch presentation as much as our souls with flavourful & delightful food.\\n\\nWith Farzi now open in 7 countries, you can experience this trendy modern Indian Bistro in your hood!\\n\\nCheckout our favourites and get Farzified!', 'post7': 'Think delicious Pan- Asian flavours packed together and delivered right to your doorstep. @orientheritage brings you just that! A delicious Aburi Sushi menu with an array of choices like salmon, tuna, prawn and avocado perfectly paired with a unique sauce for you to have a feast at home! 🥢🍣🍱 .\\nSo what are you waiting for? Order away! .\\n.\\n@theheritagefood #theheritagefood #orientheritage', 'post8': '#PoojaDhingra #TalkChef\\n\\nThe Pastry Princess is responsible for leading the gourmet dessert movement in the country especially that of Macarons. @poojadhingra\\n\\nThe successful entrepreneur dons many hats - that of a food writer, teacher, and recently made a podcast that has topped the charts in the country. She is also featured on Forbes 30 Under 30 Asia achievers list.\\n\\nHer biggest challenge in making delectable desserts is not to eat them. Head to @le15india to try her famous desserts (now shipping Macarons across India, order NOW)😍\\n.\\n📸 Light House Project', 'post9': \"With a vision of bringing Indian cuisine back 'in-vogue', @farzicafe has showcased a unique and modernist approach to Indian food, where the cuisine speaks for itself, as it surprises the palate like never before.\\nOver the last 5 years, Farzi has reached culinary excellence in 7 countries giving guests an epicurean experience and a nostalgia that keeps them going back for more.\\nThe Farzi experience is one you should definitely not miss out on!\", 'post10': '#TalkHiddenGems #GungThePalace\\n\\nOffering an authentic Korean experience with delicious food, serene ambience and signature low seating, Gung The Palace is an absolute winner when it comes to traditional Korean experience.\\n\\nWe recommend the succulent and subtly-flavoured pork galbi {grilled ribs} and the bibimbap {rice topped with vegetables, beef and egg, mixed with chilli paste}, the Ddukbeki Bulgogi {beef marinated in a hot stone pot, accompanied by rice} and Donkkaseu Omeurice {pork cutlet with omelette rice}. The portions are generous, and are accompanied with a dozen intriguing side dishes—including four kinds of kimchi, octopus cakes, shellfish with noodles.\\n\\nHit up any of the three outlets in Delhi NCR with your buddies for a delectable Korean meal\\n.\\n📍Green Park; Sector 29 Gurgaon & Sector 132 Noida\\n.\\n📸 : @Whimsical_paradox\\nPS. The price point is a little high, so be prepared!'}, 'foodmaniacindia': {'post1': 'Missing this delicious spread so badly 🤤🤪😋🤗😍👌\\nWe visited @1559ad in Udaipur and fell in love with the place. The decor is so pretty and the food is absolutely smashing! Amongst other things we tried Kadhi Chawal & Dal Baati Choorma which were really delicious!\\nMust Visit when you are in Udaipur!\\nTag someone who loves Indian lunch👇👇\\n.\\n.\\n.\\n.\\n.\\n🎥 @foodmaniacindia\\n#foodmaniacindia #udaipur #udaipurtimes #udaipurblog #udaipurdiaries #rajasthan #rajasthani #rajasthanifood #rajasthantourism #indianfood #indiagram #indiatravel #indiapictures #incredibleindia #indiatravelgram #foodiesofinstagram #storiesofindia', 'post2': 'FRIYAY Cravings!! 😜😎😋😱👌🍟\\nTag your Friends!👇\\n.\\n📍 Milkshake & Co., Kailash Colony, Delhi👈\\n📸 by @_adatewithlife_ .\\n.\\n.\\n#foodmaniacindia #fries #friyay #friyayvibes #friday #foodporn #huffposttaste #buzzfeast #buzzfeedtasty #forkyeah #f52grams #delhifood #delhifoodie #delhite #delhincr #delhiblogger #delhidiaries #delhigram #delhi_igers #delhilove #dilli #indianfood #indiagram #indiaclicks', 'post3': 'I’m feeling so Hungry right now!!😋😛😍😱😱🧀🥪\\nSuper Cheesilicious Veg Cheese Panini from Raju Sandwich, Fort, Mumbai📍👈\\n📸 by @kolkataepicurean\\n.\\nTag your Squad!👇\\n.\\n.\\n.\\n#foodmaniacindia #sandwich #cheeseporn #foodporn #foodgasm #instafood #huffposttaste #buzzfeast #buzzfeedfood #indianfood #storiesofindia #streetsofindia #streetsofmumbai #mumbai #mumbaifood #mumbairains #mumbaidiaries #mumbaiblogger #mumbaistagram #mumbaikar #mumbai_igers #mumbai_ig #bombay', 'post4': 'Awesomely Delicious Dinner scenes!!😋😱😍❤️🔥🍝🍕\\nWe absolutely loved the juicy and droolicious Prawn Linguine & Chicken Pizzaiola! Must try at @jamiesitalianindia 📍👌\\n.\\n🎥 by @foodmaniacindia\\n.\\n.\\n.\\n#foodmaniacindia #foodmaniactv #foodmaniacvids #pasta #pizza #pizzaporn #foodporn #foodgasm #huffposttaste #buzzfeast #buzzfeedtasty #instafood #forkyeah #indianfood #indiagram #delhifood #delhifoodie #delhincr #delhite #delhidiaries #delhigram #delhiblogger #delhi_igers #dilli #mumbai #mumbaifood #mumbaidiaries', 'post5': 'You’ll fall in Love with the MILLION BUCKS BUBBLE WAFFLE! 😋🤤😍😱❤️🍫🍭\\n.\\nBubble waffle loaded with chocolate, salted caramel ice cream, chocolate bars & edible Gold leaf! 😛\\n📍 Origin Bubble Waffle, Carter road, Mumbai👈\\n📸 by @thesaucyxplorer\\n.\\n.\\nTag your friends!👇\\n.\\n.\\n#foodmaniacindia #dessertmaniacindia #dessert #desserttable #dessertporn #waffle #chocolate #foodporn #huffposttaste #buzzfeast #buzzfeedtasty #instafood #mumbaifood #mumbai #mumbaiblogger #mumbaikar #mumbaidiaries #mumbaistagram #mumbai_ig #mumbai_igers #bombay', 'post6': 'Pizza Triangle is Better than Love Triangle!! 🤣😜😍😋❤️🍕\\nThis huge Pizza is called ‘LOVE TRIANGLE’ and can serve 3-4 people!😱\\n📍 @ardor.29 👈\\n📸 by @foodie_baniya12\\n.\\nTag your Squad who can finish this off!👇\\n.\\n.\\n.\\n#foodmaniacindia #pizza #pizzaporn #foodporn #foodgasm #huffposttaste #buzzfeast #buzzfeedtasty #instafood #forkyeah #f52grams #indianfood #indiagram #indiaphotography #delhifood #delhifoodie #delhite #delhincr #delhidiaries #delhiblogger #delhigram #delhi_igers #dilli #gurgaon #gurgaondiaries #gurgaonfoodie', 'post7': 'What’s your pick?! Butter Chicken Slider or Jerk Chicken Slider?😱😍😛😬🍔🍗\\n📍 The Burger Brasserie, Lokhandwala, Mumbai👈\\n📸 by @gastronomicjournal\\n.\\n.\\n.\\n#foodmaniacindia #sliders #burger #foodporn #foodgasm #huffposttaste #instafood #picoftheday #forkyeah #buzzfeast #buzzfeedtasty #mumbai #mumbaifood #mumbaiblogger #mumbaidiaries #mumbaistagram #mumbai_ig #mumbai_igers #mumbaikar #bombay #indianfood #indiagram', 'post8': 'Lunch scenes like these are ❤️! 😘😍😱🤤😋👌\\nLavish Veg Thali loaded with delicacies at Nona’s Kitchen, Gurgaon📍👈\\n📸 by @khau_gali_foodie\\n.\\nTag your Thali Squad!👇\\n.\\n.\\n.\\n#foodmaniacindia #thali #indianfood #indiagram #indiapictures #storiesofindia #indiancuisine #delhifood #delhifoodie #delhite #delhincr #delhidiaries #delhiblogger #delhigram #delhifoodblogger #delhi_igers #dilli #gurgaon #gurgaonfoodie #gurgaonblogger #wearegurgaon #foodporn #foodphotography #instafood #huffposttaste #buzzfeast #buzzfeedtasty', 'post9': 'Crispy ‘Aloo Tikki’ for evening snack??🤗😋❤️🔥😘🤤😍\\nTag all Chaat Lovers👇👇\\n📍Haldiram’s, Lajpat Nagar, Delhi👈\\n.\\n.\\n.\\n.\\n.\\n🎥 @foodmaniacindia\\n#foodmaniactv #foodmaniacindia #foodmaniacvids #delhi #delhifood #delhifoodie #delhifoodies #delhigram #delhidiaries #dilli #delhistreetfood #delhibloggers #delhiblogger #delhifoodblogger #delhite #indianfood #incredibleindia #indiagram #indiatravel #indianstreetfood', 'post10': 'This looks insanely Delicious!! 😋😱😛😍🔥🔥\\nSuper Cheesy Pesto Blooming Bread from Chocolate Heaven, Vile Parle (W), Mumbai📍👌\\n📸 by @vegguruindia\\n.\\n.\\nTag your Squad!👇\\n.\\n.\\n.\\n#foodmaniacindia #cheeseporn #garlicbread #foodporn #foodgasm #huffposttaste #buzzfeast #buzzfeedtasty #instafood #forkyeah #f52grams #mumbaifood #mumbai #mumbaidiaries #mumbaiblogger #mumbaifoodblogger #mumbaikar #mumbai_ig #mumbai_igers #mumbaistagram #bombay #indianfood #indiagram #indiaclicks'}, 'foodiesince96': {'post1': 'Saturday brunching done ✅ right 😍😍😍😍😍 Absolutely loved the #15andfabulous celebration 🍾 @olivedelhi. Yum Tiramisu also the dessert 🍨 platter was best 💯 .\\n.\\n\\n#Foodiesince96 💫💫 .\\n.\\n.\\nYouTube - MEHAK DHAWAN\\nSnapchat - Foodiesince96', 'post2': 'Saturday’s are for cheese pull and Pizza 🍕 .\\n.\\n📍Spezia bistro, Gtb .\\n.\\n.\\n.\\n\\n#Foodiesince96 💫💫 .\\n.\\n.\\nYouTube - MEHAK DHAWAN\\nSnapchat - Foodiesince96', 'post3': 'Good morning fam 😍😍 Breakfast spread be like 💁🏻\\u200d♀️ Coffee ☕️ Chicken Greek Sandwich 🥪, Salad 🥗& Pesto pasta 🍝 .\\n.\\n📍Coffee Bond\\n.\\n.\\n.\\n.\\n\\n#Foodiesince96 💫💫 .\\n.\\n.\\nYouTube - MEHAK DHAWAN\\nSnapchat - Foodiesince96', 'post4': 'Craving for some Mughlai dinner tonight 😍😍😍 Biryani, Kebab with ulte tawa ka paratha 😍😍🤟🏻🤟🏻\\n.\\n.\\n.\\n\\n#Foodiesince96 💫💫 .\\n.\\n.\\nYouTube - MEHAK DHAWAN\\nSnapchat - Foodiesince96', 'post5': 'Pasta 🍝 Sandwich 🥪, Fries 🍟 and cool chillers 🍹🍹\\n.\\n.\\n📍VK Pasta .\\n.\\n.\\n\\n#Foodiesince96 💫💫 .\\n.\\n.\\nYouTube - MEHAK DHAWAN\\nSnapchat - Foodiesince96', 'post6': 'Happy Friday Folks 🤟🏻🤟🏻What are your Weekend plans ? I’m planning to visit one of my favourite restaurant La Piazza 🙈🍕🍕🧀 it’s the best Italian restaurant in town !!! .\\n.\\nTag someone who would love to go to this place 🥂🍕🥗\\n.\\n.\\n\\n#Foodiesince96 💫💫 .\\n.\\n.\\nYouTube - MEHAK DHAWAN\\nSnapchat - Foodiesince96', 'post7': 'Obsession for Dimsum 🥟 is for real 😍😍😍😍🙈 🥢 .\\n.\\n📍ABB\\n.\\n.\\n.\\n.\\n#Foodiesince96 💫💫 .\\n.\\n.\\nYouTube - MEHAK DHAWAN\\nSnapchat - Foodiesince96', 'post8': 'Tag someone with whom you want to go on a Pizza 🍕 date with 😍😍\\n.\\n.\\n.\\n#Foodiesince96 💫💫 .\\n.\\n.\\nYouTube - MEHAK DHAWAN\\nSnapchat - Foodiesince96', 'post9': 'Good morning Fam 😍😍😍 Just realised haven’t posted cupcakes 🧁 since a while nor had so for sudden Cupcake cravings 😍😍😍🙈🙈🙈\\n.\\n.\\n📍Bombakery\\n.\\n.\\n#Foodiesince96 💫💫 .\\n.\\n.\\nYouTube - MEHAK DHAWAN\\nSnapchat - Foodiesince96', 'post10': 'Khaya hai kabhi Cheese wheel pasta 🍝😍😍 jaldi se dikho new video live on YouTube search for MEHAK DHAWAN 🤟🏻🤟🏻\\n.\\n.\\n.\\n#Foodiesince96 💫💫 .\\n.\\n.\\nYouTube - MEHAK DHAWAN\\nSnapchat - Foodiesince96'}}\n"
     ]
    }
   ],
   "source": [
    "top_5_post_content={}\n",
    "for t in top_5_blog:\n",
    "    post_content={}\n",
    "    data=driver.find_element_by_xpath('//input[contains(@class,\"XTCLo\")]')\n",
    "    data.send_keys(t)\n",
    "    driver.implicitly_wait(10)\n",
    "    data=driver.find_element_by_xpath('//span[contains(@class,\"Ap253\")]')\n",
    "    data.click()\n",
    "    driver.implicitly_wait(10)\n",
    "    driver.execute_script('window.scrollBy(0,500);')\n",
    "    for p in range(10):\n",
    "        data=driver.find_elements_by_xpath('//div[contains(@class,\"_9AhH0\")]')\n",
    "        driver.execute_script('window.scrollBy(0,80);')\n",
    "        driver.implicitly_wait(10) \n",
    "        data[p].click()\n",
    "        driver.implicitly_wait(10)\n",
    "        num='post'+str(p+1)\n",
    "        data=driver.find_element_by_xpath('//div[contains(@class,\"C4VMK\")]/span')\n",
    "        value=data.text\n",
    "        post_content[num]=value\n",
    "        new=driver.find_element_by_xpath('//button[contains(@class,\"ckWGn\")]')\n",
    "        new.click()\n",
    "    \n",
    "    top_5_post_content[t]=post_content\n",
    "print(top_5_post_content)"
   ]
  },
  {
   "cell_type": "markdown",
   "metadata": {},
   "source": [
    "### (2.2) Prepare a list of all words used in all the scraped posts and calculate the frequency of each word."
   ]
  },
  {
   "cell_type": "code",
   "execution_count": 18,
   "metadata": {},
   "outputs": [
    {
     "name": "stdout",
     "output_type": "stream",
     "text": [
      "{'WorstCooks': 1, 'FoodNetworkFinds': 1, 'TheKitchen,': 1, 'TasteTest,': 1, 'DDD': 2, 'a': 1, 'DiscoverDelhi': 1, 'OfferAlert': 1, 'FarziCafe': 1, 'ManyGuppyReturns': 1, 'GuppyGang': 1, 'NewInTown': 1, 'theheritagefood': 1, 'orientheritage': 1, 'PoojaDhingra': 1, 'TalkChef': 1, 'TalkHiddenGems': 1, 'GungThePalace': 1, 'foodmaniacindia': 10, 'udaipur': 1, 'udaipurtimes': 1, 'udaipurblog': 1, 'udaipurdiaries': 1, 'rajasthan': 1, 'rajasthani': 1, 'rajasthanifood': 1, 'rajasthantourism': 1, 'indianfood': 9, 'indiagram': 8, 'indiatravel': 2, 'indiapictures': 2, 'incredibleindia': 2, 'indiatravelgram': 1, 'foodiesofinstagram': 1, 'storiesofindia': 3, 'fries': 1, 'friyay': 1, 'friyayvibes': 1, 'friday': 1, 'foodporn': 8, 'huffposttaste': 8, 'buzzfeast': 8, 'buzzfeedtasty': 7, 'forkyeah': 5, 'f52grams': 3, 'delhifood': 5, 'delhifoodie': 5, 'delhite': 5, 'delhincr': 4, 'delhiblogger': 5, 'delhidiaries': 5, 'delhigram': 5, 'delhi_igers': 4, 'delhilove': 1, 'dilli': 5, 'indiaclicks': 2, 'sandwich': 1, 'cheeseporn': 2, 'foodgasm': 5, 'instafood': 7, 'buzzfeedfood': 1, 'streetsofindia': 1, 'streetsofmumbai': 1, 'mumbai': 5, 'mumbaifood': 5, 'mumbairains': 1, 'mumbaidiaries': 5, 'mumbaiblogger': 4, 'mumbaistagram': 4, 'mumbaikar': 4, 'mumbai_igers': 4, 'mumbai_ig': 4, 'bombay': 4, 'foodmaniactv': 2, 'foodmaniacvids': 2, 'pasta': 1, 'pizza': 2, 'pizzaporn': 2, 'dessertmaniacindia': 1, 'dessert': 1, 'desserttable': 1, 'dessertporn': 1, 'waffle': 1, 'chocolate': 1, 'indiaphotography': 1, 'gurgaon': 2, 'gurgaondiaries': 1, 'gurgaonfoodie': 2, 'sliders': 1, 'burger': 1, 'picoftheday': 1, 'thali': 1, 'indiancuisine': 1, 'delhifoodblogger': 2, 'gurgaonblogger': 1, 'wearegurgaon': 1, 'foodphotography': 1, 'delhi': 1, 'delhifoodies': 1, 'delhistreetfood': 1, 'delhibloggers': 1, 'indianstreetfood': 1, 'garlicbread': 1, 'mumbaifoodblogger': 1, '15andfabulous': 1, 'Foodiesince96': 10}\n"
     ]
    }
   ],
   "source": [
    "total_words_with_freq={}\n",
    "for i in top_5_post_content:\n",
    "    val=top_5_post_content[i]\n",
    "    for j in range(10):\n",
    "        post_number='post'+str(j+1)\n",
    "        new_val=val[post_number]\n",
    "        final_val=new_val.split()\n",
    "        for k in final_val:\n",
    "            if k[0]=='#':\n",
    "                ans=k[1:]\n",
    "                if ans in total_words_with_freq:\n",
    "                    total_words_with_freq[ans]+=1\n",
    "                else:\n",
    "                    total_words_with_freq[ans]=1\n",
    "print(total_words_with_freq)"
   ]
  },
  {
   "cell_type": "code",
   "execution_count": null,
   "metadata": {},
   "outputs": [],
   "source": []
  },
  {
   "cell_type": "markdown",
   "metadata": {},
   "source": [
    "### (2.3) Create a csv file with two columns : the word and its frequency"
   ]
  },
  {
   "cell_type": "code",
   "execution_count": 19,
   "metadata": {},
   "outputs": [
    {
     "name": "stdout",
     "output_type": "stream",
     "text": [
      "                   Word Frequency\n",
      "0            WorstCooks         1\n",
      "1      FoodNetworkFinds         1\n",
      "2           TheKitchen,         1\n",
      "3            TasteTest,         1\n",
      "4                   DDD         2\n",
      "5                     a         1\n",
      "6         DiscoverDelhi         1\n",
      "7            OfferAlert         1\n",
      "8             FarziCafe         1\n",
      "9      ManyGuppyReturns         1\n",
      "10            GuppyGang         1\n",
      "11            NewInTown         1\n",
      "12      theheritagefood         1\n",
      "13       orientheritage         1\n",
      "14         PoojaDhingra         1\n",
      "15             TalkChef         1\n",
      "16       TalkHiddenGems         1\n",
      "17        GungThePalace         1\n",
      "18      foodmaniacindia        10\n",
      "19              udaipur         1\n",
      "20         udaipurtimes         1\n",
      "21          udaipurblog         1\n",
      "22       udaipurdiaries         1\n",
      "23            rajasthan         1\n",
      "24           rajasthani         1\n",
      "25       rajasthanifood         1\n",
      "26     rajasthantourism         1\n",
      "27           indianfood         9\n",
      "28            indiagram         8\n",
      "29          indiatravel         2\n",
      "..                  ...       ...\n",
      "76                pizza         2\n",
      "77            pizzaporn         2\n",
      "78   dessertmaniacindia         1\n",
      "79              dessert         1\n",
      "80         desserttable         1\n",
      "81          dessertporn         1\n",
      "82               waffle         1\n",
      "83            chocolate         1\n",
      "84     indiaphotography         1\n",
      "85              gurgaon         2\n",
      "86       gurgaondiaries         1\n",
      "87        gurgaonfoodie         2\n",
      "88              sliders         1\n",
      "89               burger         1\n",
      "90          picoftheday         1\n",
      "91                thali         1\n",
      "92        indiancuisine         1\n",
      "93     delhifoodblogger         2\n",
      "94       gurgaonblogger         1\n",
      "95         wearegurgaon         1\n",
      "96      foodphotography         1\n",
      "97                delhi         1\n",
      "98         delhifoodies         1\n",
      "99      delhistreetfood         1\n",
      "100       delhibloggers         1\n",
      "101    indianstreetfood         1\n",
      "102         garlicbread         1\n",
      "103   mumbaifoodblogger         1\n",
      "104       15andfabulous         1\n",
      "105       Foodiesince96        10\n",
      "\n",
      "[106 rows x 2 columns]\n"
     ]
    }
   ],
   "source": [
    "import numpy as np\n",
    "import pandas as pd\n",
    "li_2d=[]\n",
    "for i in total_words_with_freq:\n",
    "    small=[]\n",
    "    small.append(i)\n",
    "    small.append(total_words_with_freq[i])\n",
    "    li_2d.append(small)\n",
    "final_data=np.array(li_2d)\n",
    "dataset=pd.DataFrame({'Word':final_data[:,0],'Frequency':final_data[:,1]})\n",
    "dataset.to_csv('New_Word_Frequency.csv',index=False)\n",
    "print(dataset)"
   ]
  },
  {
   "cell_type": "markdown",
   "metadata": {},
   "source": [
    "### (2.4) Now, find the hashtags that were most popular among these bloggers"
   ]
  },
  {
   "cell_type": "code",
   "execution_count": 20,
   "metadata": {},
   "outputs": [
    {
     "name": "stdout",
     "output_type": "stream",
     "text": [
      "Top 5 Hashtags\n",
      "\n",
      "foodmaniacindia  10\n",
      "Foodiesince96  10\n",
      "indianfood  9\n",
      "indiagram  8\n",
      "foodporn  8\n"
     ]
    }
   ],
   "source": [
    "new_total_words_with_freq=sorted(total_words_with_freq,key=total_words_with_freq.get,reverse=True)\n",
    "print('Top 5 Hashtags')\n",
    "print()\n",
    "top_5_hash=[]\n",
    "top_5_times=[]\n",
    "for i in range(5):\n",
    "    top_5_hash.append(new_total_words_with_freq[i])\n",
    "    top_5_times.append(total_words_with_freq[new_total_words_with_freq[i]])\n",
    "for j in range(5):\n",
    "    print(top_5_hash[j],'',top_5_times[j])"
   ]
  },
  {
   "cell_type": "markdown",
   "metadata": {},
   "source": [
    "### (2.5) Plot a Pie Chart of the top 5 hashtags obtained and the number of times they were used by these bloggers in the scraped posts."
   ]
  },
  {
   "cell_type": "code",
   "execution_count": 21,
   "metadata": {},
   "outputs": [
    {
     "data": {
      "image/png": "[encoded data removed]",
      "text/plain": [
       "<Figure size 432x288 with 1 Axes>"
      ]
     },
     "metadata": {},
     "output_type": "display_data"
    }
   ],
   "source": [
    "import matplotlib.pyplot as plt\n",
    "plt.pie(top_5_times,labels=top_5_hash,autopct=\"%.2f%%\")\n",
    "plt.show()"
   ]
  },
  {
   "cell_type": "markdown",
   "metadata": {},
   "source": [
    "## 3.You need to also calculate average followers : likes ratio for the obtained handles. \n",
    "## Followers : Likes ratio is calculated as follows:"
   ]
  },
  {
   "cell_type": "markdown",
   "metadata": {},
   "source": [
    "### (3.1) Find out the likes of the top 10 posts of the 5 handles obtained earlier."
   ]
  },
  {
   "cell_type": "code",
   "execution_count": 22,
   "metadata": {},
   "outputs": [
    {
     "name": "stdout",
     "output_type": "stream",
     "text": [
      "{'foodnetwork': {'post1': 14304, 'post2': 15436, 'post3': 4206, 'post4': 15090, 'post5': 12838, 'post6': 12445, 'post7': 21374}, 'foodgod': {'post1': 86358}, 'foodtalkindia': {'post1': 1465, 'post2': 241, 'post3': 1004, 'post4': 789, 'post5': 1309, 'post6': 4788, 'post7': 1524, 'post8': 1329, 'post9': 658, 'post10': 531}, 'foodmaniacindia': {'post1': 3912, 'post2': 4285, 'post3': 3202, 'post4': 3785, 'post5': 1696, 'post6': 2935, 'post7': 5181, 'post8': 3862, 'post9': 2769, 'post10': 2843}, 'foodiesince96': {'post1': 1414, 'post2': 2819, 'post3': 2831, 'post4': 3692, 'post5': 5315, 'post6': 4323, 'post7': 4537, 'post8': 2805, 'post9': 2417, 'post10': 5651}}\n"
     ]
    }
   ],
   "source": [
    "from selenium.common.exceptions import NoSuchElementException\n",
    "top_5_post_likes={}\n",
    "for t in top_5_blog:\n",
    "    post_likes={}\n",
    "    count=0\n",
    "    data=driver.find_element_by_xpath('//input[contains(@class,\"XTCLo\")]')\n",
    "    data.send_keys(t)\n",
    "    driver.implicitly_wait(10)\n",
    "    data=driver.find_element_by_xpath('//span[contains(@class,\"Ap253\")]')\n",
    "    data.click()\n",
    "    driver.implicitly_wait(10)\n",
    "    for i in range(12):\n",
    "        driver.execute_script('window.scrollBy(0,2000);')\n",
    "        time.sleep(1)\n",
    "    data=driver.find_elements_by_xpath('//div[contains(@class,\"_9AhH0\")]')\n",
    "    for j in range(12):\n",
    "        driver.execute_script('window.scrollBy(0,-2000);')\n",
    "        time.sleep(1)\n",
    "    driver.execute_script('window.scrollBy(0,500);')\n",
    "    final=data\n",
    "    driver.implicitly_wait(10)\n",
    "    for p in range(len(final)):\n",
    "        if count>9:\n",
    "            break  \n",
    "        try:\n",
    "            data=driver.find_elements_by_xpath('//div[contains(@class,\"_9AhH0\")]')\n",
    "            driver.execute_script('window.scrollBy(0,80);')\n",
    "            final=len(data)\n",
    "            driver.implicitly_wait(10)\n",
    "            data[p].click()\n",
    "            driver.implicitly_wait(10)\n",
    "            data=driver.find_element_by_xpath('//button[contains(@class,\"sqdOP \")]//span')\n",
    "            val=data.text\n",
    "            if val=='':\n",
    "                new=driver.find_element_by_xpath('//button[contains(@class,\"ckWGn\")]')\n",
    "                new.click()\n",
    "                continue\n",
    "            \n",
    "            if val[0]=='V':\n",
    "                new=driver.find_element_by_xpath('//button[contains(@class,\"ckWGn\")]')\n",
    "                new.click()\n",
    "                continue\n",
    "            val=val.replace(',','')\n",
    "            ans=int(val)\n",
    "            count=count+1\n",
    "            number='post'+str(count)\n",
    "            post_likes[number]=ans\n",
    "            new=driver.find_element_by_xpath('//button[contains(@class,\"ckWGn\")]')\n",
    "            new.click()\n",
    "            \n",
    "        except NoSuchElementException:\n",
    "            new=driver.find_element_by_xpath('//button[contains(@class,\"ckWGn\")]')\n",
    "            new.click()\n",
    "    \n",
    "    top_5_post_likes[t]=post_likes\n",
    "print(top_5_post_likes)         \n",
    "    "
   ]
  },
  {
   "cell_type": "markdown",
   "metadata": {},
   "source": [
    "### (3.2) Calculate the average likes for a handle."
   ]
  },
  {
   "cell_type": "code",
   "execution_count": 23,
   "metadata": {},
   "outputs": [
    {
     "name": "stdout",
     "output_type": "stream",
     "text": [
      "{'foodnetwork': 13670, 'foodgod': 86358, 'foodtalkindia': 1363, 'foodmaniacindia': 3447, 'foodiesince96': 3580}\n"
     ]
    }
   ],
   "source": [
    "average_5_handle={}\n",
    "for i in top_5_post_likes:\n",
    "    count=0\n",
    "    total_sum=0\n",
    "    dic=top_5_post_likes[i]\n",
    "    for j in dic:\n",
    "        count=count+1\n",
    "        total_sum+=dic[j]\n",
    "        average=total_sum//count\n",
    "    average_5_handle[i]=average\n",
    "print(average_5_handle)"
   ]
  },
  {
   "cell_type": "markdown",
   "metadata": {},
   "source": [
    "### (3.3) Divide the average likes obtained from the number of followers of the handle to get the average followers:like ratio of each handle."
   ]
  },
  {
   "cell_type": "code",
   "execution_count": 24,
   "metadata": {},
   "outputs": [
    {
     "name": "stdout",
     "output_type": "stream",
     "text": [
      "foodnetwork 0.0014688686874374227\n",
      "foodgod 0.025357340952848525\n",
      "foodtalkindia 0.004829326020252698\n",
      "foodmaniacindia 0.013119383727701425\n",
      "foodiesince96 0.015901217020520567\n"
     ]
    }
   ],
   "source": [
    "top_5_average_like=[]\n",
    "dicty={}\n",
    "top_5_followers=[]\n",
    "average_followers_likes=[]\n",
    "for i in average_5_handle:\n",
    "    top_5_average_like.append(average_5_handle[i])\n",
    "for i in top_5_blog: \n",
    "    data=driver.find_element_by_xpath('//input[contains(@class,\"XTCLo\")]')\n",
    "    data.send_keys(i)\n",
    "    driver.implicitly_wait(10)\n",
    "    data=driver.find_element_by_xpath('//span[contains(@class,\"Ap253\")]')\n",
    "    data.click()\n",
    "    driver.implicitly_wait(10)\n",
    "    data=BeautifulSoup(driver.page_source,'html.parser')\n",
    "    new_data=data.a.span\n",
    "    final_data=new_data['title']\n",
    "    final_data=int(final_data.replace(',',''))\n",
    "    final_data\n",
    "    dicty[i]=final_data\n",
    "for i in dicty:\n",
    "    top_5_followers.append(dicty[i])\n",
    "for i in range(len(top_5_followers)):\n",
    "    val=top_5_average_like[i]/top_5_followers[i]\n",
    "    average_followers_likes.append(val)\n",
    "for i in range(len(top_5_followers)):   \n",
    "    print(top_5_blog[i],average_followers_likes[i])"
   ]
  },
  {
   "cell_type": "markdown",
   "metadata": {},
   "source": [
    "### (3.4) Create a bar graph to depict the above obtained information."
   ]
  },
  {
   "cell_type": "code",
   "execution_count": 25,
   "metadata": {},
   "outputs": [
    {
     "data": {
      "image/png": "[encoded data removed]",
      "text/plain": [
       "<Figure size 432x288 with 1 Axes>"
      ]
     },
     "metadata": {
      "needs_background": "light"
     },
     "output_type": "display_data"
    }
   ],
   "source": [
    "import matplotlib.pyplot as plt\n",
    "plt.bar(top_5_blog,average_followers_likes,color='blue')\n",
    "plt.xticks(rotation=90)\n",
    "plt.xlabel('Handles')\n",
    "plt.ylabel('Like vs Followers ratio')\n",
    "plt.title('Handle vs Like Followers Ratio')\n",
    "plt.show()"
   ]
  },
  {
   "cell_type": "code",
   "execution_count": null,
   "metadata": {},
   "outputs": [],
   "source": []
  },
  {
   "cell_type": "code",
   "execution_count": null,
   "metadata": {},
   "outputs": [],
   "source": []
  }
 ],
 "metadata": {
  "kernelspec": {
   "display_name": "Python 3",
   "language": "python",
   "name": "python3"
  },
  "language_info": {
   "codemirror_mode": {
    "name": "ipython",
    "version": 3
   },
   "file_extension": ".py",
   "mimetype": "text/x-python",
   "name": "python",
   "nbconvert_exporter": "python",
   "pygments_lexer": "ipython3",
   "version": "3.6.5"
  }
 },
 "nbformat": 4,
 "nbformat_minor": 2
}
